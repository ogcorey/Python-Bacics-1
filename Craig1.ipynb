{
 "cells": [
  {
   "cell_type": "code",
   "execution_count": null,
   "metadata": {},
   "outputs": [],
   "source": [
    "print(\"I like rice\")\n",
    "print(\"it's really good\")"
   ]
  },
  {
   "cell_type": "code",
   "execution_count": null,
   "metadata": {},
   "outputs": [],
   "source": [
    "\n",
    "# String\n",
    "first_name = \"Craig\"\n",
    "food = \"rice\"\n",
    "print(f\"My name is {first_name}\")\n",
    "print(f\"my name is {first_name} I like {food}\")\n",
    "\n",
    "#Integer\n",
    "Age = 20\n",
    "Episode = 15\n",
    "print(f\"my age is {Age} and i am on episode {Episode} of Solo Leveling\")\n",
    "\n",
    "#Floating\n",
    "Price = 25.50 \n",
    "Distance = 5.50\n",
    "print(f\"I drove {Distance}km to buy the manga for ${Price}\")\n",
    "\n",
    "\n",
    "\n"
   ]
  },
  {
   "cell_type": "code",
   "execution_count": null,
   "metadata": {},
   "outputs": [],
   "source": [
    "name = \"Craig\"\n",
    "age = 34\n",
    "gpa = 4.5\n",
    "student = True\n",
    "print(type(name))\n",
    "print(type(age))\n",
    "print(type(gpa))\n",
    "print(type(student))\n",
    "\n",
    "age = float(age)\n",
    "\n",
    "print(age)\n",
    "gpa = int(gpa)\n",
    "print(gpa)\n",
    "student = str(student)\n",
    "print(student)\n",
    "print(type(student))"
   ]
  }
 ],
 "metadata": {
  "kernelspec": {
   "display_name": "Python 3",
   "language": "python",
   "name": "python3"
  },
  "language_info": {
   "name": "python",
   "version": "3.13.1"
  }
 },
 "nbformat": 4,
 "nbformat_minor": 2
}
